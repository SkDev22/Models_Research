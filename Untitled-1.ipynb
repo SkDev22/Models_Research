{
 "cells": [
  {
   "cell_type": "code",
   "execution_count": 2,
   "id": "0cab856d",
   "metadata": {},
   "outputs": [
    {
     "name": "stdout",
     "output_type": "stream",
     "text": [
      "  Boarding_House_ID       Location Room_Type  Price (LKR) Availability  \\\n",
      "0               BD1            NaN    Single        11337    Available   \n",
      "1               BD2      Colombo 3    Shared        10263    Available   \n",
      "2               BD3   CINEC campus    Shared        11764    Available   \n",
      "3               BD4           NSBM    Double        13806     Occupied   \n",
      "4               BD5          SLIIT    Single        10548     Occupied   \n",
      "\n",
      "                            Amenities  Ratings  Proximity_to_Landmark  \\\n",
      "0   Air Conditioning, Study/Workspace      2.3                    1.8   \n",
      "1                                 NaN      4.0                    2.2   \n",
      "2                                 NaN      3.5                    2.6   \n",
      "3                                 NaN      3.2                    4.3   \n",
      "4                                 NaN      2.8                    3.8   \n",
      "\n",
      "                                               Query  \n",
      "0  Find a boarding house with Air Conditioning an...  \n",
      "1      Are there any boarding houses near Colombo 3?  \n",
      "2          Are there any boarding houses near CINEC?  \n",
      "3           Are there any boarding houses near NSBM?  \n",
      "4          Are there any boarding houses near SLIIT?  \n"
     ]
    }
   ],
   "source": [
    "import pandas as pd\n",
    "\n",
    "# Load dataset\n",
    "df = pd.read_csv('Dataset_Cleaned.csv')\n",
    "\n",
    "# Inspect\n",
    "print(df.head())\n",
    "\n",
    "# Example cleanup (adjust to your actual columns)\n",
    "df['Amenities'] = df['Amenities'].str.lower()\n",
    "df['Location'] = df['Location'].str.lower()\n",
    "df.dropna(inplace=True)\n"
   ]
  },
  {
   "cell_type": "code",
   "execution_count": 4,
   "id": "18749d4c",
   "metadata": {},
   "outputs": [
    {
     "name": "stdout",
     "output_type": "stream",
     "text": [
      "{'', 'air conditioning', 'pet-friendly', 'wi-fi', 'attach bathroom.', 'pool', 'laundary', 'gym', 'kitchen', 'air condition', 'parking', 'wifi', 'study/workspace', 'laundry', 'attach bathroom'}\n"
     ]
    }
   ],
   "source": [
    "# Create a list of searchable amenities, locations, etc.\n",
    "all_amenities = set()\n",
    "for amens in df['Amenities']:\n",
    "    all_amenities.update([a.strip() for a in amens.split(',')])\n",
    "\n",
    "print(all_amenities)  # Can be used to match tokens from user input\n"
   ]
  },
  {
   "cell_type": "code",
   "execution_count": 6,
   "id": "ffbc3ddc",
   "metadata": {},
   "outputs": [
    {
     "name": "stdout",
     "output_type": "stream",
     "text": [
      "All Amenities: {'', 'air conditioning', 'pet-friendly', 'wi-fi', 'attach bathroom.', 'pool', 'laundary', 'gym', 'kitchen', 'air condition', 'parking', 'wifi', 'study/workspace', 'laundry', 'attach bathroom'}\n",
      "All Locations: {'thimbirigasyaya', 'wellawatte', 'nugegoda', 'collombo 2', 'colombo 1', 'angoda', 'biyagama', 'horizon campus', 'pelawatte', 'kaduwela', 'colombo 10', 'colombo 9', 'thalangama', 'colombo 2', 'rajagiriya', 'colombo 5', 'kohuwala', 'piliyandala', 'maharagama', 'colombo 8', 'colombo 4', 'pannipitiya', 'narahenpita', 'kotte', 'kesbewa', 'moratuwa', 'pittugala', 'homagama', 'colombo 3', 'kiribathgoda', 'ethul kotte', 'thalawathugoda', 'wattala', 'dehiwala', 'mount lavinia', 'kirulapone', 'colombo 6', 'borella'}\n",
      "All Searchable Terms: {'', 'thimbirigasyaya', 'air conditioning', 'attach bathroom.', 'laundary', 'wellawatte', 'nugegoda', 'collombo 2', 'colombo 1', 'attach bathroom', 'angoda', 'biyagama', 'horizon campus', 'pelawatte', 'laundry', 'kaduwela', 'colombo 10', 'borella', 'colombo 9', 'wi-fi', 'thalangama', 'colombo 2', 'rajagiriya', 'colombo 5', 'kohuwala', 'piliyandala', 'parking', 'study/workspace', 'maharagama', 'colombo 8', 'colombo 4', 'pannipitiya', 'gym', 'narahenpita', 'kotte', 'kesbewa', 'moratuwa', 'pittugala', 'air condition', 'wifi', 'homagama', 'colombo 3', 'kiribathgoda', 'ethul kotte', 'thalawathugoda', 'pet-friendly', 'pool', 'wattala', 'dehiwala', 'mount lavinia', 'kirulapone', 'colombo 6', 'kitchen'}\n"
     ]
    }
   ],
   "source": [
    "# Initialize sets\n",
    "all_amenities = set()\n",
    "all_locations = set()\n",
    "\n",
    "# Extract all amenities\n",
    "for amens in df['Amenities']:\n",
    "    all_amenities.update([a.strip().lower() for a in amens.split(',')])\n",
    "\n",
    "# Extract all locations\n",
    "for loc in df['Location']:\n",
    "    all_locations.add(loc.strip().lower())\n",
    "\n",
    "# Combine into one set (optional, for global search matching)\n",
    "all_searchable_terms = all_amenities.union(all_locations)\n",
    "\n",
    "# Print results\n",
    "print(\"All Amenities:\", all_amenities)\n",
    "print(\"All Locations:\", all_locations)\n",
    "print(\"All Searchable Terms:\", all_searchable_terms)\n"
   ]
  },
  {
   "cell_type": "code",
   "execution_count": 7,
   "id": "8a129403",
   "metadata": {},
   "outputs": [
    {
     "name": "stdout",
     "output_type": "stream",
     "text": [
      "Boarding House Malabe ORG\n",
      "Wifi PERSON\n",
      "Matched amenities: ['', 'wifi']\n"
     ]
    }
   ],
   "source": [
    "import spacy\n",
    "\n",
    "nlp = spacy.load(\"en_core_web_sm\")\n",
    "\n",
    "# Example query\n",
    "query = \"Boarding House Malabe with Wifi under 20000\"\n",
    "\n",
    "# Run NLP\n",
    "doc = nlp(query)\n",
    "\n",
    "# Extract named entities\n",
    "for ent in doc.ents:\n",
    "    print(ent.text, ent.label_)\n",
    "\n",
    "# Simple custom matcher (you can expand this)\n",
    "matched_amenities = [a for a in all_amenities if a in query.lower()]\n",
    "print(\"Matched amenities:\", matched_amenities)\n"
   ]
  },
  {
   "cell_type": "code",
   "execution_count": 15,
   "id": "0b84fcdf",
   "metadata": {},
   "outputs": [
    {
     "name": "stdout",
     "output_type": "stream",
     "text": [
      "{'location': None, 'amenities': ['', 'kitchen', 'wifi'], 'price_max': 20000, 'Boarding_House_ID': None}\n"
     ]
    }
   ],
   "source": [
    "def parse_query(query):\n",
    "    filters = {\n",
    "        \"location\": None,\n",
    "        \"amenities\": [],\n",
    "        \"price_max\": None,\n",
    "        \"Boarding_House_ID\": None\n",
    "    }\n",
    "\n",
    "    doc = nlp(query.lower())\n",
    "\n",
    "    # Match amenities\n",
    "    filters[\"amenities\"] = [a for a in all_amenities if a in query.lower()]\n",
    "\n",
    "    # Simple location detection (you can use spaCy NER)\n",
    "    for token in doc:\n",
    "        if token.ent_type_ == \"GPE\":\n",
    "            filters[\"location\"] = token.text\n",
    "\n",
    "    # Price extraction\n",
    "    for token in doc:\n",
    "        if token.like_num and \"under\" in query.lower():\n",
    "            filters[\"price_max\"] = int(token.text)\n",
    "\n",
    "    # Optional name match\n",
    "    for word in query.split():\n",
    "        if word.lower() in df['Boarding_House_ID'].str.lower().values:\n",
    "            filters[\"Boarding_House_ID\"] = word.lower()\n",
    "\n",
    "    return filters\n",
    "\n",
    "print(parse_query(\"Boarding House with Wifi and Kitchen under 20000\"))\n"
   ]
  }
 ],
 "metadata": {
  "kernelspec": {
   "display_name": "Python 3",
   "language": "python",
   "name": "python3"
  },
  "language_info": {
   "codemirror_mode": {
    "name": "ipython",
    "version": 3
   },
   "file_extension": ".py",
   "mimetype": "text/x-python",
   "name": "python",
   "nbconvert_exporter": "python",
   "pygments_lexer": "ipython3",
   "version": "3.12.8"
  }
 },
 "nbformat": 4,
 "nbformat_minor": 5
}
